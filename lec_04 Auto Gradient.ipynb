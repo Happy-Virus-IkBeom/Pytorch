{
 "cells": [
  {
   "cell_type": "code",
   "execution_count": 44,
   "id": "6363b22a",
   "metadata": {},
   "outputs": [
    {
     "name": "stdout",
     "output_type": "stream",
     "text": [
      "tensor([1.])\n",
      "<class 'torch.Tensor'>\n"
     ]
    }
   ],
   "source": [
    "import numpy as np\n",
    "import matplotlib.pyplot as plt\n",
    "import torch\n",
    "\n",
    "x_data = [1.0, 2.0, 3.0]\n",
    "y_data = [2.0, 4.0, 6.0]\n",
    "w = torch.tensor([1.0], requires_grad=True)\n",
    "print(w.data)\n",
    "print(type(w.data))\n",
    "\n",
    "a = 0.01\n",
    "epoch = range(20)\n",
    "\n",
    "w_list = []\n",
    "loss_list = []\n",
    "gradient_list = []"
   ]
  },
  {
   "cell_type": "code",
   "execution_count": 45,
   "id": "7905ece6",
   "metadata": {},
   "outputs": [
    {
     "name": "stdout",
     "output_type": "stream",
     "text": [
      "before training: 4hours -> 4.0 \n"
     ]
    }
   ],
   "source": [
    "def forward(x):\n",
    "    return x * w\n",
    "\n",
    "\n",
    "def loss(x, y):\n",
    "    y_pred = forward(x)\n",
    "    return (y_pred - y) ** 2\n",
    "\n",
    "\n",
    "def gradient(x, y):\n",
    "    return 2 * x * (x * w - y)\n",
    "\n",
    "print(f\"before training: 4hours -> {forward(4).item()} \")"
   ]
  },
  {
   "cell_type": "code",
   "execution_count": 46,
   "id": "8a535961",
   "metadata": {},
   "outputs": [
    {
     "name": "stdout",
     "output_type": "stream",
     "text": [
      "after training: 4hours -> 7.990480899810791 \n"
     ]
    },
    {
     "data": {
      "image/png": "[encoded data removed]",
      "text/plain": [
       "<Figure size 432x288 with 1 Axes>"
      ]
     },
     "metadata": {
      "needs_background": "light"
     },
     "output_type": "display_data"
    }
   ],
   "source": [
    "for _ in epoch:\n",
    "    for x_val, y_val in zip(x_data, y_data):\n",
    "        y_pred = forward(x_val)\n",
    "        l = loss(x_val, y_val)\n",
    "        l.backward()\n",
    "        w.data = w.data - a * w.grad.item()\n",
    "        gradient_list.append(w.grad.item())\n",
    "        w_list.append(w.data.item())\n",
    "        loss_list.append(l.item())\n",
    "        w.grad.data.zero_()\n",
    "\n",
    "\n",
    "print(f\"after training: 4hours -> {forward(4).item()} \")\n",
    "\n",
    "plt.plot(range(60), w_list, label='weight')\n",
    "plt.plot(range(60), loss_list, label='loss')\n",
    "plt.plot(range(60), gradient_list, label='gradient')\n",
    "plt.legend()\n",
    "plt.xlabel('epoch')\n",
    "plt.show()"
   ]
  },
  {
   "cell_type": "code",
   "execution_count": 47,
   "id": "4e284a29",
   "metadata": {},
   "outputs": [
    {
     "data": {
      "text/plain": [
       "7.990480899810791"
      ]
     },
     "execution_count": 47,
     "metadata": {},
     "output_type": "execute_result"
    }
   ],
   "source": [
    "forward(4).item()"
   ]
  },
  {
   "cell_type": "code",
   "execution_count": 48,
   "id": "ad5cae57",
   "metadata": {},
   "outputs": [
    {
     "data": {
      "text/plain": [
       "float"
      ]
     },
     "execution_count": 48,
     "metadata": {},
     "output_type": "execute_result"
    }
   ],
   "source": [
    "type(forward(4).item())"
   ]
  },
  {
   "cell_type": "code",
   "execution_count": 49,
   "id": "a7fd74fd",
   "metadata": {},
   "outputs": [
    {
     "data": {
      "text/plain": [
       "torch.Tensor"
      ]
     },
     "execution_count": 49,
     "metadata": {},
     "output_type": "execute_result"
    }
   ],
   "source": [
    "type(w.data)"
   ]
  },
  {
   "cell_type": "code",
   "execution_count": 50,
   "id": "af98dd59",
   "metadata": {},
   "outputs": [
    {
     "data": {
      "text/plain": [
       "torch.Tensor"
      ]
     },
     "execution_count": 50,
     "metadata": {},
     "output_type": "execute_result"
    }
   ],
   "source": [
    "type(w.data[0])"
   ]
  },
  {
   "cell_type": "code",
   "execution_count": 51,
   "id": "3cb80d63",
   "metadata": {},
   "outputs": [
    {
     "data": {
      "text/plain": [
       "tensor([1.9976])"
      ]
     },
     "execution_count": 51,
     "metadata": {},
     "output_type": "execute_result"
    }
   ],
   "source": [
    "w.data"
   ]
  },
  {
   "cell_type": "code",
   "execution_count": 36,
   "id": "d8d80f12",
   "metadata": {},
   "outputs": [
    {
     "data": {
      "text/plain": [
       "tensor(1.9976)"
      ]
     },
     "execution_count": 36,
     "metadata": {},
     "output_type": "execute_result"
    }
   ],
   "source": [
    "w.data[0]"
   ]
  },
  {
   "cell_type": "code",
   "execution_count": 62,
   "id": "96579b89",
   "metadata": {},
   "outputs": [
    {
     "name": "stdout",
     "output_type": "stream",
     "text": [
      "<class 'torch.Tensor'>\n",
      "<class 'torch.Tensor'>\n",
      "\n",
      "\n",
      "tensor([-0.0048])\n",
      "tensor([-0.0048])\n",
      "\n",
      "\n",
      "torch.Size([1])\n",
      "torch.Size([1])\n",
      "\n",
      "\n",
      "-0.004759550094604492\n",
      "-0.004759550094604492\n",
      "\n",
      "\n",
      "tensor([0.])\n",
      "tensor([0.])\n",
      "<class 'torch.Tensor'>\n",
      "<class 'torch.Tensor'>\n",
      "\n",
      "\n",
      "tensor([-0.0190])\n",
      "tensor([-0.0190])\n",
      "\n",
      "\n",
      "torch.Size([1])\n",
      "torch.Size([1])\n",
      "\n",
      "\n",
      "-0.01903820037841797\n",
      "-0.01903820037841797\n",
      "\n",
      "\n",
      "tensor([0.])\n",
      "tensor([0.])\n",
      "<class 'torch.Tensor'>\n",
      "<class 'torch.Tensor'>\n",
      "\n",
      "\n",
      "tensor([-0.0428])\n",
      "tensor([-0.0428])\n",
      "\n",
      "\n",
      "torch.Size([1])\n",
      "torch.Size([1])\n",
      "\n",
      "\n",
      "-0.042835235595703125\n",
      "-0.042835235595703125\n",
      "\n",
      "\n",
      "tensor([0.])\n",
      "tensor([0.])\n"
     ]
    }
   ],
   "source": [
    "# 데이터 타입, 형태 관찰\n",
    "for x_val, y_val in zip(x_data, y_data):\n",
    "    y_pred = forward(x_val)\n",
    "    l = loss(x_val, y_val)\n",
    "    l.backward()\n",
    "    print(type(w.grad))\n",
    "    print(type(w.grad.data))\n",
    "    print('\\n')\n",
    "    print(w.grad)\n",
    "    print(w.grad.data)\n",
    "    print('\\n')\n",
    "    print(w.grad.shape)\n",
    "    print(w.grad.data.shape)\n",
    "    print('\\n')\n",
    "    print(w.grad.data.item())\n",
    "    print(w.grad.item())\n",
    "    w.grad.data.zero_()\n",
    "    print('\\n')\n",
    "    print(w.grad)\n",
    "    print(w.grad.data)"
   ]
  },
  {
   "cell_type": "code",
   "execution_count": 68,
   "id": "b5dd6283",
   "metadata": {},
   "outputs": [],
   "source": [
    "# torch tensor 다루기 연습\n",
    "w = torch.tensor([1, 2, 3])"
   ]
  },
  {
   "cell_type": "code",
   "execution_count": 69,
   "id": "2f0d2281",
   "metadata": {},
   "outputs": [
    {
     "data": {
      "text/plain": [
       "tensor([1, 2, 3])"
      ]
     },
     "execution_count": 69,
     "metadata": {},
     "output_type": "execute_result"
    }
   ],
   "source": [
    "w.data"
   ]
  },
  {
   "cell_type": "code",
   "execution_count": 70,
   "id": "091f45c8",
   "metadata": {},
   "outputs": [
    {
     "ename": "ValueError",
     "evalue": "only one element tensors can be converted to Python scalars",
     "output_type": "error",
     "traceback": [
      "\u001b[1;31m---------------------------------------------------------------------------\u001b[0m",
      "\u001b[1;31mValueError\u001b[0m                                Traceback (most recent call last)",
      "\u001b[1;32m<ipython-input-70-f427b6cf0962>\u001b[0m in \u001b[0;36m<module>\u001b[1;34m\u001b[0m\n\u001b[1;32m----> 1\u001b[1;33m \u001b[0mw\u001b[0m\u001b[1;33m.\u001b[0m\u001b[0mdata\u001b[0m\u001b[1;33m.\u001b[0m\u001b[0mitem\u001b[0m\u001b[1;33m(\u001b[0m\u001b[1;33m)\u001b[0m\u001b[1;33m\u001b[0m\u001b[1;33m\u001b[0m\u001b[0m\n\u001b[0m",
      "\u001b[1;31mValueError\u001b[0m: only one element tensors can be converted to Python scalars"
     ]
    }
   ],
   "source": [
    "w.data.item()"
   ]
  },
  {
   "cell_type": "code",
   "execution_count": 71,
   "id": "b6fd2f21",
   "metadata": {},
   "outputs": [
    {
     "data": {
      "text/plain": [
       "tensor([0, 0, 0])"
      ]
     },
     "execution_count": 71,
     "metadata": {},
     "output_type": "execute_result"
    }
   ],
   "source": [
    "w.data.zero_()"
   ]
  },
  {
   "cell_type": "code",
   "execution_count": null,
   "id": "08d6848c",
   "metadata": {},
   "outputs": [],
   "source": []
  }
 ],
 "metadata": {
  "kernelspec": {
   "display_name": "Python 3",
   "language": "python",
   "name": "python3"
  },
  "language_info": {
   "codemirror_mode": {
    "name": "ipython",
    "version": 3
   },
   "file_extension": ".py",
   "mimetype": "text/x-python",
   "name": "python",
   "nbconvert_exporter": "python",
   "pygments_lexer": "ipython3",
   "version": "3.9.5"
  }
 },
 "nbformat": 4,
 "nbformat_minor": 5
}
