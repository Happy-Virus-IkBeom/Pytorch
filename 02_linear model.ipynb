{
 "cells": [
  {
   "cell_type": "code",
   "execution_count": 1,
   "id": "c1c4c968",
   "metadata": {},
   "outputs": [
    {
     "name": "stdout",
     "output_type": "stream",
     "text": [
      "w=  0.0\n",
      "w=  0.1\n",
      "w=  0.2\n",
      "w=  0.30000000000000004\n",
      "w=  0.4\n",
      "w=  0.5\n",
      "w=  0.6000000000000001\n",
      "w=  0.7000000000000001\n",
      "w=  0.8\n",
      "w=  0.9\n",
      "w=  1.0\n",
      "w=  1.1\n",
      "w=  1.2000000000000002\n",
      "w=  1.3\n",
      "w=  1.4000000000000001\n",
      "w=  1.5\n",
      "w=  1.6\n",
      "w=  1.7000000000000002\n",
      "w=  1.8\n",
      "w=  1.9000000000000001\n",
      "w=  2.0\n",
      "w=  2.1\n",
      "w=  2.2\n",
      "w=  2.3000000000000003\n",
      "w=  2.4000000000000004\n",
      "w=  2.5\n",
      "w=  2.6\n",
      "w=  2.7\n",
      "w=  2.8000000000000003\n",
      "w=  2.9000000000000004\n",
      "w=  3.0\n",
      "w=  3.1\n",
      "w=  3.2\n",
      "w=  3.3000000000000003\n",
      "w=  3.4000000000000004\n",
      "w=  3.5\n",
      "w=  3.6\n",
      "w=  3.7\n",
      "w=  3.8000000000000003\n",
      "w=  3.9000000000000004\n",
      "w=  4.0\n"
     ]
    },
    {
     "data": {
      "image/png": "[encoded data removed]",
      "text/plain": [
       "<Figure size 432x288 with 1 Axes>"
      ]
     },
     "metadata": {
      "needs_background": "light"
     },
     "output_type": "display_data"
    }
   ],
   "source": [
    "import numpy as np\n",
    "import matplotlib.pyplot as plt\n",
    "\n",
    "x_data = [1.0, 2.0, 3.0]\n",
    "y_data = [2.0, 4.0, 6.0]\n",
    "\n",
    "def forward(x):\n",
    "    return x * w\n",
    "\n",
    "def loss(x,y):\n",
    "    y_pred = forward(x)\n",
    "    return (y_pred-y)**2\n",
    "\n",
    "w_list = []\n",
    "mse_list = []\n",
    "\n",
    "for w in np.arange(0.0,4.1,0.1):\n",
    "    print(\"w= \",w)\n",
    "    l_sum=0\n",
    "\n",
    "    for x_val,y_val in zip(x_data,y_data):\n",
    "        l = loss(x_val,y_val)\n",
    "        l_sum += l\n",
    "\n",
    "    w_list.append(w)\n",
    "    mse_list.append(l_sum/len(x_data))\n",
    "\n",
    "plt.plot(w_list,mse_list)\n",
    "plt.ylabel('Loss')\n",
    "plt.xlabel('weight value')\n",
    "plt.show()"
   ]
  },
  {
   "cell_type": "code",
   "execution_count": null,
   "id": "7b8f0ef5",
   "metadata": {},
   "outputs": [],
   "source": []
  }
 ],
 "metadata": {
  "kernelspec": {
   "display_name": "Python 3",
   "language": "python",
   "name": "python3"
  },
  "language_info": {
   "codemirror_mode": {
    "name": "ipython",
    "version": 3
   },
   "file_extension": ".py",
   "mimetype": "text/x-python",
   "name": "python",
   "nbconvert_exporter": "python",
   "pygments_lexer": "ipython3",
   "version": "3.9.5"
  }
 },
 "nbformat": 4,
 "nbformat_minor": 5
}
